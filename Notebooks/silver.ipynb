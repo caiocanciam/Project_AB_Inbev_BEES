{
 "cells": [
  {
   "cell_type": "code",
   "execution_count": 10,
   "id": "72a270a5-5686-4276-bbff-4a593003f9cb",
   "metadata": {},
   "outputs": [],
   "source": [
    "import os\n",
    "import json\n",
    "import pytz\n",
    "\n",
    "from datetime import datetime\n",
    "\n",
    "from pyspark.sql import SparkSession\n",
    "from pyspark.sql import functions as F\n",
    "from pyspark.sql.functions import col, coalesce"
   ]
  },
  {
   "cell_type": "code",
   "execution_count": 11,
   "id": "6f7bd898-06a8-4f4e-b4ea-e5f269e42c78",
   "metadata": {},
   "outputs": [],
   "source": [
    "input_url = \"/home/jovyan/work/layers/bronze/\"\n",
    "output_path = \"/home/jovyan/work/layers/silver/\""
   ]
  },
  {
   "cell_type": "code",
   "execution_count": 12,
   "id": "671573f5-bdb4-4eb1-a86f-33c4749c9387",
   "metadata": {},
   "outputs": [],
   "source": [
    "spark = SparkSession.builder \\\n",
    ".appName(\"silver_layer\") \\\n",
    ".config(\"spark.driver.bindAddress\", \"0.0.0.0\") \\\n",
    ".getOrCreate()"
   ]
  },
  {
   "cell_type": "code",
   "execution_count": 13,
   "id": "202df1da-10df-4d70-aca0-b391177710e0",
   "metadata": {},
   "outputs": [],
   "source": [
    "todos_dados = []\n",
    "\n",
    "for arquivo in os.listdir(input_url):\n",
    "    if arquivo.endswith(\".json\"): # Get only .json\n",
    "        caminho = os.path.join(input_url, arquivo)\n",
    "        with open(caminho, \"r\", encoding=\"utf-8\") as f:\n",
    "            dados = json.load(f)\n",
    "            todos_dados.append(dados)\n",
    "\n",
    "# Read raw data from bronze layer\n",
    "df_spark = spark.read.option(\"multiline\", \"true\").json(input_url)"
   ]
  },
  {
   "cell_type": "code",
   "execution_count": 14,
   "id": "79f90ab2-53be-401c-8092-87cea2243360",
   "metadata": {},
   "outputs": [],
   "source": [
    "# Force all columns to string for consistency\n",
    "df_spark = df_spark.select([F.col(c).cast(\"string\").alias(c) for c in df_spark.columns])\n",
    "\n",
    "# Create location column (city or state_province)\n",
    "df_silver = df_spark.withColumn(\n",
    "    \"brewery_location\",\n",
    "    coalesce(col(\"city\"), col(\"state_province\"))\n",
    ")\n",
    "\n",
    "# Remove duplicates by brewery ID\n",
    "df_silver = df_silver.dropDuplicates([\"id\"])"
   ]
  },
  {
   "cell_type": "code",
   "execution_count": 16,
   "id": "2e624940-562a-4d11-bac6-00ae7a0a344f",
   "metadata": {},
   "outputs": [],
   "source": [
    "# Add execution date column\n",
    "date = str(datetime.now(pytz.timezone(\"Brazil/East\"))).split(\" \")[0]\n",
    "df_silver = df_silver.withColumn(\"exec_date\", F.to_date(F.lit(date)))\n",
    "\n",
    "# Save silver layer, partitioned by location\n",
    "#df_silver.write \\\n",
    "#    .mode(\"overwrite\") \\\n",
    "#    .partitionBy(\"brewery_location\") \\\n",
    "#    .parquet(output_path)"
   ]
  },
  {
   "cell_type": "code",
   "execution_count": 17,
   "id": "d04a384b-cf48-408a-ac47-e91cb27f9c18",
   "metadata": {},
   "outputs": [
    {
     "name": "stdout",
     "output_type": "stream",
     "text": [
      "+------------+----------------+-------------+--------------------+--------------+----------+\n",
      "|brewery_type|            city|      country|                name|         state| exec_date|\n",
      "+------------+----------------+-------------+--------------------+--------------+----------+\n",
      "|     brewpub|      Louisville|United States|    12Degree Brewing|      Colorado|2025-08-09|\n",
      "|       micro|         Houston|United States|11 Below Brewing ...|         Texas|2025-08-09|\n",
      "|       micro|            Mesa|United States|12 West Brewing C...|       Arizona|2025-08-09|\n",
      "|       large|          Denver|United States|10 Barrel Brewing...|      Colorado|2025-08-09|\n",
      "|       micro|       Milwaukee|United States|1840 Brewing Company|     Wisconsin|2025-08-09|\n",
      "|       micro|            Reno|United States|10 Torr Distillin...|        Nevada|2025-08-09|\n",
      "|       micro|        Abington|United States|10th District Bre...| Massachusetts|2025-08-09|\n",
      "|       micro|      Georgetown|United States|  16 Mile Brewing Co|      Delaware|2025-08-09|\n",
      "|       micro|  Mount Pleasant|United States|1 of Us Brewing C...|     Wisconsin|2025-08-09|\n",
      "|       micro|           Anoka|United States|         10K Brewing|     Minnesota|2025-08-09|\n",
      "|     brewpub|         Taylors|United States|  13 Stripes Brewery|South Carolina|2025-08-09|\n",
      "|       micro|         okolona|United States|        1817 Brewery|   Mississippi|2025-08-09|\n",
      "|       micro|Westlake Village|United States|14 Cannons Brewin...|    California|2025-08-09|\n",
      "|  proprietor|          Denver|United States|14er Brewing Company|      Colorado|2025-08-09|\n",
      "|       micro|         Kenmore|United States|         192 Brewing|    Washington|2025-08-09|\n",
      "|       micro|          Tucson|United States|        1912 Brewing|       Arizona|2025-08-09|\n",
      "|       micro|     Castle Rock|United States| 105 West Brewing Co|      Colorado|2025-08-09|\n",
      "|       micro|      Saint Paul|United States|12welve Eyes Brewing|     Minnesota|2025-08-09|\n",
      "|       micro|          Norman|United States|    (405) Brewing Co|      Oklahoma|2025-08-09|\n",
      "|     brewpub|        John Day|United States|     1188 Brewing Co|        Oregon|2025-08-09|\n",
      "+------------+----------------+-------------+--------------------+--------------+----------+\n",
      "only showing top 20 rows\n",
      "\n"
     ]
    }
   ],
   "source": [
    "df_silver.select('brewery_type', 'city', 'country', 'name', 'state', 'exec_date').show()"
   ]
  }
 ],
 "metadata": {
  "kernelspec": {
   "display_name": "Python 3 (ipykernel)",
   "language": "python",
   "name": "python3"
  },
  "language_info": {
   "codemirror_mode": {
    "name": "ipython",
    "version": 3
   },
   "file_extension": ".py",
   "mimetype": "text/x-python",
   "name": "python",
   "nbconvert_exporter": "python",
   "pygments_lexer": "ipython3",
   "version": "3.11.6"
  }
 },
 "nbformat": 4,
 "nbformat_minor": 5
}
