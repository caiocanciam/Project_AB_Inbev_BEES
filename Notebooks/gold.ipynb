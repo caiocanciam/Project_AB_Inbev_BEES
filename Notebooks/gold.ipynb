{
 "cells": [
  {
   "cell_type": "code",
   "execution_count": 8,
   "id": "72a270a5-5686-4276-bbff-4a593003f9cb",
   "metadata": {},
   "outputs": [],
   "source": [
    "from pyspark.sql import functions as F\n",
    "\n",
    "from pyspark.sql import SparkSession"
   ]
  },
  {
   "cell_type": "code",
   "execution_count": 9,
   "id": "6f7bd898-06a8-4f4e-b4ea-e5f269e42c78",
   "metadata": {},
   "outputs": [],
   "source": [
    "input_url = \"/home/jovyan/work/layers/silver/\"\n",
    "output_path = \"/home/jovyan/work/layers/gold/\""
   ]
  },
  {
   "cell_type": "code",
   "execution_count": 10,
   "id": "a55ceb2c-d0d2-4672-8eeb-331809a896a9",
   "metadata": {},
   "outputs": [],
   "source": [
    "spark = SparkSession.builder \\\n",
    "    .appName(\"gold_layer\") \\\n",
    "    .config(\"spark.driver.bindAddress\", \"0.0.0.0\") \\\n",
    "    .getOrCreate()"
   ]
  },
  {
   "cell_type": "code",
   "execution_count": 11,
   "id": "3fe408b7-8022-4f78-944e-06ac369d4622",
   "metadata": {},
   "outputs": [],
   "source": [
    "# Read from silver layer\n",
    "df_input = spark.read.option(\"mergeSchema\", \"true\").parquet(input_url)\n",
    "\n",
    "# Ensure location column is filled\n",
    "df_gold = df_input.withColumn(\n",
    "    \"brewery_location\",\n",
    "    F.coalesce(F.col(\"city\"), F.col(\"state_province\"), F.col(\"state\"))\n",
    ")"
   ]
  },
  {
   "cell_type": "code",
   "execution_count": 12,
   "id": "65f29bcb-743a-4b05-860a-e1fd9f612ba0",
   "metadata": {},
   "outputs": [],
   "source": [
    "# Fill missing values\n",
    "df_gold = df_gold.fillna({\"brewery_location\": \"UNKNOWN\", \"brewery_type\": \"UNKNOWN\"})\n",
    "\n",
    "# Remove duplicates\n",
    "df_gold = df_gold.dropDuplicates([\"id\"])"
   ]
  },
  {
   "cell_type": "code",
   "execution_count": 13,
   "id": "2294c9c9-bb0c-44ed-914f-31537c82b954",
   "metadata": {},
   "outputs": [],
   "source": [
    "# Aggregate brewery count per location and type\n",
    "df_gold = (\n",
    "    df_gold.groupBy(\"brewery_location\", \"brewery_type\")\n",
    "      .agg(F.countDistinct(\"id\").alias(\"brewery_count\"))\n",
    "      .orderBy(\"brewery_location\", F.desc(\"brewery_count\"))\n",
    ")\n",
    "\n",
    "# Save gold layer, partitioned by location\n",
    "#df_gold.write \\\n",
    "#    .mode(\"overwrite\") \\\n",
    "#    .partitionBy(\"brewery_location\") \\\n",
    "#    .parquet(output_path)"
   ]
  },
  {
   "cell_type": "code",
   "execution_count": 14,
   "id": "3f9998c0-da7d-40db-90c5-e7df248a6569",
   "metadata": {},
   "outputs": [
    {
     "name": "stdout",
     "output_type": "stream",
     "text": [
      "+----------------+------------+-------------+\n",
      "|brewery_location|brewery_type|brewery_count|\n",
      "+----------------+------------+-------------+\n",
      "|Abington        |micro       |1            |\n",
      "|Anoka           |micro       |1            |\n",
      "|Assumption      |micro       |1            |\n",
      "|Austin          |micro       |1            |\n",
      "|Bellingham      |closed      |1            |\n",
      "|Bend            |large       |3            |\n",
      "|Boise           |large       |1            |\n",
      "|Castle Rock     |micro       |1            |\n",
      "|Cincinnati      |micro       |1            |\n",
      "|Coraopolis      |micro       |1            |\n",
      "|Crosslake       |micro       |1            |\n",
      "|Denver          |large       |1            |\n",
      "|Denver          |proprietor  |1            |\n",
      "|Des Moines      |micro       |1            |\n",
      "|Gary            |micro       |1            |\n",
      "|Georgetown      |micro       |1            |\n",
      "|Gilbert         |micro       |1            |\n",
      "|Hammond         |micro       |1            |\n",
      "|Holland Patent  |brewpub     |1            |\n",
      "|Houston         |micro       |1            |\n",
      "|Jackson         |micro       |1            |\n",
      "|John Day        |brewpub     |1            |\n",
      "|Kenmore         |micro       |1            |\n",
      "|Killeshin       |micro       |1            |\n",
      "|Knox            |micro       |1            |\n",
      "|Louisville      |brewpub     |1            |\n",
      "|Mariposa        |micro       |1            |\n",
      "|Mason           |brewpub     |1            |\n",
      "|Mesa            |micro       |1            |\n",
      "|Milwaukee       |micro       |1            |\n",
      "|Mount Pleasant  |micro       |1            |\n",
      "|Norman          |micro       |1            |\n",
      "|Ocracoke        |brewpub     |1            |\n",
      "|Petaluma        |closed      |1            |\n",
      "|Portland        |brewpub     |1            |\n",
      "|Portland        |large       |1            |\n",
      "|Raleigh         |micro       |1            |\n",
      "|Reno            |micro       |1            |\n",
      "|Saint Albans    |micro       |1            |\n",
      "|Saint Paul      |micro       |1            |\n",
      "|San Diego       |large       |1            |\n",
      "|Spotsylvania    |micro       |1            |\n",
      "|Taylors         |brewpub     |1            |\n",
      "|Tucson          |micro       |1            |\n",
      "|Westlake Village|micro       |1            |\n",
      "|Westminister    |contract    |1            |\n",
      "|Williamsville   |brewpub     |1            |\n",
      "|okolona         |micro       |1            |\n",
      "+----------------+------------+-------------+\n",
      "\n"
     ]
    }
   ],
   "source": [
    "df_gold.show(100, truncate=False)"
   ]
  }
 ],
 "metadata": {
  "kernelspec": {
   "display_name": "Python 3 (ipykernel)",
   "language": "python",
   "name": "python3"
  },
  "language_info": {
   "codemirror_mode": {
    "name": "ipython",
    "version": 3
   },
   "file_extension": ".py",
   "mimetype": "text/x-python",
   "name": "python",
   "nbconvert_exporter": "python",
   "pygments_lexer": "ipython3",
   "version": "3.11.6"
  }
 },
 "nbformat": 4,
 "nbformat_minor": 5
}
