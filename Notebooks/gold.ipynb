{
 "cells": [
  {
   "cell_type": "code",
   "execution_count": 1,
   "id": "72a270a5-5686-4276-bbff-4a593003f9cb",
   "metadata": {},
   "outputs": [],
   "source": [
    "import requests\n",
    "import os\n",
    "import json\n",
    "import pandas as pd\n",
    "import pytz\n",
    "\n",
    "from datetime import datetime\n",
    "from pyspark.sql import functions as F\n",
    "\n",
    "from pyspark.sql.functions import coalesce, col\n",
    "\n",
    "from pyspark.sql import SparkSession"
   ]
  },
  {
   "cell_type": "code",
   "execution_count": 2,
   "id": "e78cc9c7-5166-452f-ab21-2593d0075590",
   "metadata": {},
   "outputs": [],
   "source": [
    "spark = SparkSession.builder.appName(\"Breweries\").enableHiveSupport().getOrCreate()"
   ]
  },
  {
   "cell_type": "code",
   "execution_count": 3,
   "id": "6f7bd898-06a8-4f4e-b4ea-e5f269e42c78",
   "metadata": {},
   "outputs": [],
   "source": [
    "input_url = \"/home/jovyan/work/layers/silver/\"\n",
    "output_path = \"/home/jovyan/work/layers/gold/\""
   ]
  },
  {
   "cell_type": "code",
   "execution_count": null,
   "id": "be5e2e31-22d2-482e-aef8-a5de5bb62991",
   "metadata": {},
   "outputs": [],
   "source": [
    "df_input = spark.read.option(\"mergeSchema\", \"true\").parquet(input_url)\n",
    "\n",
    "# Criar coluna brewery_location usando state_province, state ou city (fallback)\n",
    "df_gold = df_input.withColumn(\n",
    "    \"brewery_location\",\n",
    "    F.coalesce(F.col(\"state_province\"), F.col(\"state\"), F.col(\"city\"))\n",
    ")\n",
    "\n",
    "# Tratar possíveis valores nulos para não perder dados na agregação\n",
    "df_gold = df_gold.fillna({\"brewery_location\": \"UNKNOWN\", \"brewery_type\": \"UNKNOWN\"})\n",
    "\n",
    "# Deduplicar dados por id para garantir contagem correta\n",
    "df_gold = df_gold.dropDuplicates([\"id\"])\n",
    "\n",
    "# Agregação: contar quantidade de cervejarias por tipo e localização\n",
    "df_gold = (\n",
    "    df_gold.groupBy(\"brewery_location\", \"brewery_type\")\n",
    "      .agg(F.countDistinct(\"id\").alias(\"brewery_count\"))\n",
    "      .orderBy(\"brewery_location\", F.desc(\"brewery_count\"))\n",
    ")\n",
    "\n",
    "# Salvar resultado na camada gold em formato parquet, particionando por brewery_location\n",
    "df_gold.write.mode(\"overwrite\") \\\n",
    "    .option(\"compression\", \"snappy\") \\\n",
    "    .partitionBy(\"brewery_location\") \\\n",
    "    .parquet(output_path)\n",
    "\n",
    "print(\"Gold layer criada com sucesso!\")"
   ]
  },
  {
   "cell_type": "code",
   "execution_count": 6,
   "id": "3f9998c0-da7d-40db-90c5-e7df248a6569",
   "metadata": {},
   "outputs": [
    {
     "name": "stdout",
     "output_type": "stream",
     "text": [
      "+----------------+------------+-------------+\n",
      "|brewery_location|brewery_type|brewery_count|\n",
      "+----------------+------------+-------------+\n",
      "|Arizona         |micro       |3            |\n",
      "|California      |micro       |2            |\n",
      "|California      |large       |1            |\n",
      "|California      |closed      |1            |\n",
      "|Colorado        |brewpub     |1            |\n",
      "|Colorado        |proprietor  |1            |\n",
      "|Colorado        |micro       |1            |\n",
      "|Colorado        |large       |1            |\n",
      "|Delaware        |micro       |1            |\n",
      "|Idaho           |large       |1            |\n",
      "|Illinois        |micro       |1            |\n",
      "|Indiana         |micro       |3            |\n",
      "|Iowa            |micro       |1            |\n",
      "|Laois           |micro       |1            |\n",
      "|Maryland        |contract    |1            |\n",
      "|Massachusetts   |micro       |1            |\n",
      "|Michigan        |micro       |1            |\n",
      "|Minnesota       |micro       |3            |\n",
      "|Mississippi     |micro       |1            |\n",
      "|Nevada          |micro       |1            |\n",
      "|New York        |brewpub     |2            |\n",
      "|North Carolina  |micro       |1            |\n",
      "|North Carolina  |brewpub     |1            |\n",
      "|Ohio            |brewpub     |1            |\n",
      "|Ohio            |micro       |1            |\n",
      "|Oklahoma        |micro       |1            |\n",
      "|Oregon          |large       |4            |\n",
      "|Oregon          |brewpub     |2            |\n",
      "|Pennsylvania    |micro       |1            |\n",
      "|South Carolina  |brewpub     |1            |\n",
      "|Texas           |micro       |2            |\n",
      "|Vermont         |micro       |1            |\n",
      "|Virginia        |micro       |1            |\n",
      "|Washington      |closed      |1            |\n",
      "|Washington      |micro       |1            |\n",
      "|Wisconsin       |micro       |2            |\n",
      "+----------------+------------+-------------+\n",
      "\n"
     ]
    }
   ],
   "source": [
    "df_gold.show(100, truncate=False)"
   ]
  },
  {
   "cell_type": "code",
   "execution_count": 14,
   "id": "ba02f36e-a962-40bb-9b45-bdcb5505c6e8",
   "metadata": {},
   "outputs": [],
   "source": [
    "# Definindo a DAG\n",
    "with DAG(\n",
    "    dag_id='etl_pipeline_2',\n",
    "    start_date=datetime(2025, 3, 16),\n",
    "    schedule_interval=None,\n",
    "    catchup=False,\n",
    ") as dag:\n",
    "    load = PythonOperator(task_id='load_file', python_callable=load_file)\n",
    "    transform = PythonOperator(task_id='transform_data', python_callable=transform_data)\n",
    "    save = PythonOperator(task_id='save_to_sqlite', python_callable=save_to_sqlite)\n",
    "    load >> transform >> save"
   ]
  },
  {
   "cell_type": "code",
   "execution_count": 19,
   "id": "fdbca693-2531-4ff6-9e82-1b2286f0e101",
   "metadata": {},
   "outputs": [],
   "source": [
    "#df_pandas = pd.json_normalize(dados_json)"
   ]
  },
  {
   "cell_type": "code",
   "execution_count": null,
   "id": "e32eaff9-b7ce-46d1-99ca-2bb617fd7802",
   "metadata": {},
   "outputs": [],
   "source": [
    "#df_pandas.head()"
   ]
  }
 ],
 "metadata": {
  "kernelspec": {
   "display_name": "Python 3 (ipykernel)",
   "language": "python",
   "name": "python3"
  },
  "language_info": {
   "codemirror_mode": {
    "name": "ipython",
    "version": 3
   },
   "file_extension": ".py",
   "mimetype": "text/x-python",
   "name": "python",
   "nbconvert_exporter": "python",
   "pygments_lexer": "ipython3",
   "version": "3.11.6"
  }
 },
 "nbformat": 4,
 "nbformat_minor": 5
}
