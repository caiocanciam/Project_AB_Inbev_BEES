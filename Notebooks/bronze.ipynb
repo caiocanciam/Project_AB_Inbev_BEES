{
 "cells": [
  {
   "cell_type": "code",
   "execution_count": 1,
   "id": "72a270a5-5686-4276-bbff-4a593003f9cb",
   "metadata": {},
   "outputs": [],
   "source": [
    "import requests\n",
    "import pandas as pd\n",
    "import os\n",
    "import json\n",
    "\n",
    "from requests.adapters import HTTPAdapter\n",
    "from urllib3.util.retry import Retry\n",
    "\n",
    "from pyspark.sql.functions import current_date, current_timestamp\n",
    "\n",
    "from pyspark.sql import SparkSession"
   ]
  },
  {
   "cell_type": "code",
   "execution_count": 2,
   "id": "56e7cb9e-2844-45bf-a2e5-b450fa8addc9",
   "metadata": {},
   "outputs": [
    {
     "data": {
      "text/plain": [
       "'/home/jovyan/work'"
      ]
     },
     "execution_count": 2,
     "metadata": {},
     "output_type": "execute_result"
    }
   ],
   "source": [
    "os.getcwd()"
   ]
  },
  {
   "cell_type": "code",
   "execution_count": 3,
   "id": "6f7bd898-06a8-4f4e-b4ea-e5f269e42c78",
   "metadata": {},
   "outputs": [],
   "source": [
    "input_url = \"https://api.openbrewerydb.org/v1/breweries\"\n",
    "prefix = \"/home/jovyan/work/layers/bronze\"\n",
    "file_name = \"bronze_breweries.json\"\n",
    "output_path = os.path.join(prefix, file_name)"
   ]
  },
  {
   "cell_type": "code",
   "execution_count": 4,
   "id": "8b31b63e-e97d-475d-85fb-a679a9a5f685",
   "metadata": {},
   "outputs": [
    {
     "data": {
      "text/plain": [
       "'/home/jovyan/work/layers/bronze/bronze_breweries.json'"
      ]
     },
     "execution_count": 4,
     "metadata": {},
     "output_type": "execute_result"
    }
   ],
   "source": [
    "output_path"
   ]
  },
  {
   "cell_type": "code",
   "execution_count": 5,
   "id": "ba02f36e-a962-40bb-9b45-bdcb5505c6e8",
   "metadata": {},
   "outputs": [],
   "source": [
    "retry_strategy = Retry(\n",
    "    total=2,\n",
    "    backoff_factor=1,\n",
    "    status_forcelist=[400, 401, 402, 403, 429, 500, 502, 503, 504],\n",
    ")\n",
    "adapter = HTTPAdapter(max_retries=retry_strategy)\n",
    "\n",
    "session = requests.Session()\n",
    "session.mount(\"https://\", adapter)\n",
    "session.mount(\"http://\", adapter)\n",
    "\n",
    "try:\n",
    "    response = session.get(input_url)\n",
    "    response.raise_for_status()\n",
    "    if response.status_code == 200:\n",
    "        dados_json = response.json()\n",
    "    else:\n",
    "        error_message = f\"Error accessing data: {response.status_code}\"\n",
    "        raise Exception(error_message)\n",
    "except Exception as e:\n",
    "    error_message = f\"Error processing JSON: {e}\"\n",
    "    raise Exception(error_message)\n",
    "\n",
    "conteudo_json = json.dumps(dados_json, indent=4, ensure_ascii=False)\n",
    "\n",
    "# Save raw JSON to bronze layer\n",
    "#try:\n",
    "#    with open(output_path, \"w\", encoding=\"utf-8\") as f:\n",
    "#        f.write(conteudo_json)\n",
    "#except Exception as e:\n",
    "#    print(f\"Error saving file: {e}\")"
   ]
  },
  {
   "cell_type": "code",
   "execution_count": 6,
   "id": "fdbca693-2531-4ff6-9e82-1b2286f0e101",
   "metadata": {},
   "outputs": [],
   "source": [
    "df_pandas = pd.json_normalize(dados_json)"
   ]
  },
  {
   "cell_type": "code",
   "execution_count": 7,
   "id": "e32eaff9-b7ce-46d1-99ca-2bb617fd7802",
   "metadata": {},
   "outputs": [
    {
     "data": {
      "text/html": [
       "<div>\n",
       "<style scoped>\n",
       "    .dataframe tbody tr th:only-of-type {\n",
       "        vertical-align: middle;\n",
       "    }\n",
       "\n",
       "    .dataframe tbody tr th {\n",
       "        vertical-align: top;\n",
       "    }\n",
       "\n",
       "    .dataframe thead th {\n",
       "        text-align: right;\n",
       "    }\n",
       "</style>\n",
       "<table border=\"1\" class=\"dataframe\">\n",
       "  <thead>\n",
       "    <tr style=\"text-align: right;\">\n",
       "      <th></th>\n",
       "      <th>id</th>\n",
       "      <th>name</th>\n",
       "      <th>brewery_type</th>\n",
       "      <th>address_1</th>\n",
       "      <th>address_2</th>\n",
       "      <th>address_3</th>\n",
       "      <th>city</th>\n",
       "      <th>state_province</th>\n",
       "      <th>postal_code</th>\n",
       "      <th>country</th>\n",
       "      <th>longitude</th>\n",
       "      <th>latitude</th>\n",
       "      <th>phone</th>\n",
       "      <th>website_url</th>\n",
       "      <th>state</th>\n",
       "      <th>street</th>\n",
       "    </tr>\n",
       "  </thead>\n",
       "  <tbody>\n",
       "    <tr>\n",
       "      <th>0</th>\n",
       "      <td>5128df48-79fc-4f0f-8b52-d06be54d0cec</td>\n",
       "      <td>(405) Brewing Co</td>\n",
       "      <td>micro</td>\n",
       "      <td>1716 Topeka St</td>\n",
       "      <td>None</td>\n",
       "      <td>None</td>\n",
       "      <td>Norman</td>\n",
       "      <td>Oklahoma</td>\n",
       "      <td>73069-8224</td>\n",
       "      <td>United States</td>\n",
       "      <td>-97.468182</td>\n",
       "      <td>35.257389</td>\n",
       "      <td>4058160490</td>\n",
       "      <td>http://www.405brewing.com</td>\n",
       "      <td>Oklahoma</td>\n",
       "      <td>1716 Topeka St</td>\n",
       "    </tr>\n",
       "    <tr>\n",
       "      <th>1</th>\n",
       "      <td>9c5a66c8-cc13-416f-a5d9-0a769c87d318</td>\n",
       "      <td>(512) Brewing Co</td>\n",
       "      <td>micro</td>\n",
       "      <td>407 Radam Ln Ste F200</td>\n",
       "      <td>None</td>\n",
       "      <td>None</td>\n",
       "      <td>Austin</td>\n",
       "      <td>Texas</td>\n",
       "      <td>78745-1197</td>\n",
       "      <td>United States</td>\n",
       "      <td>NaN</td>\n",
       "      <td>NaN</td>\n",
       "      <td>5129211545</td>\n",
       "      <td>http://www.512brewing.com</td>\n",
       "      <td>Texas</td>\n",
       "      <td>407 Radam Ln Ste F200</td>\n",
       "    </tr>\n",
       "    <tr>\n",
       "      <th>2</th>\n",
       "      <td>34e8c68b-6146-453f-a4b9-1f6cd99a5ada</td>\n",
       "      <td>1 of Us Brewing Company</td>\n",
       "      <td>micro</td>\n",
       "      <td>8100 Washington Ave</td>\n",
       "      <td>None</td>\n",
       "      <td>None</td>\n",
       "      <td>Mount Pleasant</td>\n",
       "      <td>Wisconsin</td>\n",
       "      <td>53406-3920</td>\n",
       "      <td>United States</td>\n",
       "      <td>-87.883364</td>\n",
       "      <td>42.720108</td>\n",
       "      <td>2624847553</td>\n",
       "      <td>https://www.1ofusbrewing.com</td>\n",
       "      <td>Wisconsin</td>\n",
       "      <td>8100 Washington Ave</td>\n",
       "    </tr>\n",
       "    <tr>\n",
       "      <th>3</th>\n",
       "      <td>6d14b220-8926-4521-8d19-b98a2d6ec3db</td>\n",
       "      <td>10 Barrel Brewing Co</td>\n",
       "      <td>large</td>\n",
       "      <td>62970 18th St</td>\n",
       "      <td>None</td>\n",
       "      <td>None</td>\n",
       "      <td>Bend</td>\n",
       "      <td>Oregon</td>\n",
       "      <td>97701-9847</td>\n",
       "      <td>United States</td>\n",
       "      <td>-121.281706</td>\n",
       "      <td>44.086835</td>\n",
       "      <td>5415851007</td>\n",
       "      <td>http://www.10barrel.com</td>\n",
       "      <td>Oregon</td>\n",
       "      <td>62970 18th St</td>\n",
       "    </tr>\n",
       "    <tr>\n",
       "      <th>4</th>\n",
       "      <td>e2e78bd8-80ff-4a61-a65c-3bfbd9d76ce2</td>\n",
       "      <td>10 Barrel Brewing Co</td>\n",
       "      <td>large</td>\n",
       "      <td>1135 NW Galveston Ave Ste B</td>\n",
       "      <td>None</td>\n",
       "      <td>None</td>\n",
       "      <td>Bend</td>\n",
       "      <td>Oregon</td>\n",
       "      <td>97703-2465</td>\n",
       "      <td>United States</td>\n",
       "      <td>-121.328802</td>\n",
       "      <td>44.057565</td>\n",
       "      <td>5415851007</td>\n",
       "      <td>None</td>\n",
       "      <td>Oregon</td>\n",
       "      <td>1135 NW Galveston Ave Ste B</td>\n",
       "    </tr>\n",
       "  </tbody>\n",
       "</table>\n",
       "</div>"
      ],
      "text/plain": [
       "                                     id                     name brewery_type  \\\n",
       "0  5128df48-79fc-4f0f-8b52-d06be54d0cec         (405) Brewing Co        micro   \n",
       "1  9c5a66c8-cc13-416f-a5d9-0a769c87d318         (512) Brewing Co        micro   \n",
       "2  34e8c68b-6146-453f-a4b9-1f6cd99a5ada  1 of Us Brewing Company        micro   \n",
       "3  6d14b220-8926-4521-8d19-b98a2d6ec3db     10 Barrel Brewing Co        large   \n",
       "4  e2e78bd8-80ff-4a61-a65c-3bfbd9d76ce2     10 Barrel Brewing Co        large   \n",
       "\n",
       "                     address_1 address_2 address_3            city  \\\n",
       "0               1716 Topeka St      None      None          Norman   \n",
       "1        407 Radam Ln Ste F200      None      None          Austin   \n",
       "2          8100 Washington Ave      None      None  Mount Pleasant   \n",
       "3                62970 18th St      None      None            Bend   \n",
       "4  1135 NW Galveston Ave Ste B      None      None            Bend   \n",
       "\n",
       "  state_province postal_code        country   longitude   latitude  \\\n",
       "0       Oklahoma  73069-8224  United States  -97.468182  35.257389   \n",
       "1          Texas  78745-1197  United States         NaN        NaN   \n",
       "2      Wisconsin  53406-3920  United States  -87.883364  42.720108   \n",
       "3         Oregon  97701-9847  United States -121.281706  44.086835   \n",
       "4         Oregon  97703-2465  United States -121.328802  44.057565   \n",
       "\n",
       "        phone                   website_url      state  \\\n",
       "0  4058160490     http://www.405brewing.com   Oklahoma   \n",
       "1  5129211545     http://www.512brewing.com      Texas   \n",
       "2  2624847553  https://www.1ofusbrewing.com  Wisconsin   \n",
       "3  5415851007       http://www.10barrel.com     Oregon   \n",
       "4  5415851007                          None     Oregon   \n",
       "\n",
       "                        street  \n",
       "0               1716 Topeka St  \n",
       "1        407 Radam Ln Ste F200  \n",
       "2          8100 Washington Ave  \n",
       "3                62970 18th St  \n",
       "4  1135 NW Galveston Ave Ste B  "
      ]
     },
     "execution_count": 7,
     "metadata": {},
     "output_type": "execute_result"
    }
   ],
   "source": [
    "df_pandas.head()"
   ]
  },
  {
   "cell_type": "code",
   "execution_count": null,
   "id": "a95c2d1b-3c5b-4bca-a255-5ce50022a9ed",
   "metadata": {},
   "outputs": [],
   "source": []
  }
 ],
 "metadata": {
  "kernelspec": {
   "display_name": "Python 3 (ipykernel)",
   "language": "python",
   "name": "python3"
  },
  "language_info": {
   "codemirror_mode": {
    "name": "ipython",
    "version": 3
   },
   "file_extension": ".py",
   "mimetype": "text/x-python",
   "name": "python",
   "nbconvert_exporter": "python",
   "pygments_lexer": "ipython3",
   "version": "3.11.6"
  }
 },
 "nbformat": 4,
 "nbformat_minor": 5
}
