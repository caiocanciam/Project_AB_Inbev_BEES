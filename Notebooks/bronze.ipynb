{
 "cells": [
  {
   "cell_type": "code",
   "execution_count": 7,
   "id": "72a270a5-5686-4276-bbff-4a593003f9cb",
   "metadata": {},
   "outputs": [],
   "source": [
    "import requests\n",
    "import pandas as pd\n",
    "import os\n",
    "import json\n",
    "\n",
    "from requests.adapters import HTTPAdapter\n",
    "from urllib3.util.retry import Retry\n",
    "\n",
    "from pyspark.sql.functions import current_date, current_timestamp\n",
    "\n",
    "from pyspark.sql import SparkSession"
   ]
  },
  {
   "cell_type": "code",
   "execution_count": 8,
   "id": "56e7cb9e-2844-45bf-a2e5-b450fa8addc9",
   "metadata": {},
   "outputs": [
    {
     "data": {
      "text/plain": [
       "'/home/jovyan/work'"
      ]
     },
     "execution_count": 8,
     "metadata": {},
     "output_type": "execute_result"
    }
   ],
   "source": [
    "os.getcwd()"
   ]
  },
  {
   "cell_type": "code",
   "execution_count": 9,
   "id": "6f7bd898-06a8-4f4e-b4ea-e5f269e42c78",
   "metadata": {},
   "outputs": [],
   "source": [
    "input_url = \"https://api.openbrewerydb.org/v1/breweries\"\n",
    "prefix = \"/home/jovyan/work/layers/bronze\"\n",
    "file_name = \"bronze_breweries.json\"\n",
    "output_path = os.path.join(prefix, file_name)"
   ]
  },
  {
   "cell_type": "code",
   "execution_count": 10,
   "id": "8b31b63e-e97d-475d-85fb-a679a9a5f685",
   "metadata": {},
   "outputs": [
    {
     "data": {
      "text/plain": [
       "'/home/jovyan/work/layers/bronze/bronze_breweries.json'"
      ]
     },
     "execution_count": 10,
     "metadata": {},
     "output_type": "execute_result"
    }
   ],
   "source": [
    "output_path"
   ]
  },
  {
   "cell_type": "code",
   "execution_count": 11,
   "id": "ba02f36e-a962-40bb-9b45-bdcb5505c6e8",
   "metadata": {},
   "outputs": [],
   "source": [
    "retry_strategy = Retry(\n",
    "    total=2,\n",
    "    backoff_factor=1,\n",
    "    status_forcelist=[400, 401, 402, 403, 429, 500, 502, 503, 504],\n",
    ")\n",
    "adapter = HTTPAdapter(max_retries=retry_strategy)\n",
    "\n",
    "session = requests.Session()\n",
    "session.mount(\"https://\", adapter)\n",
    "session.mount(\"http://\", adapter)\n",
    "\n",
    "try:\n",
    "    response = session.get(input_url)\n",
    "    response.raise_for_status()\n",
    "    if response.status_code == 200:\n",
    "        dados_json = response.json()\n",
    "    else:\n",
    "        error_message = f\"Erro ao acessar os dados: {dados_json}\"\n",
    "        raise Exception(error_message)\n",
    "except Exception as e:\n",
    "    error_message = f\"Erro ao processar o JSON: {e}\"\n",
    "    raise Exception(error_message)\n",
    "\n",
    "conteudo_json = json.dumps(dados_json, indent=4, ensure_ascii=False)\n",
    "\n",
    "try:\n",
    "    with open(output_path, \"w\", encoding=\"utf-8\") as f:\n",
    "        f.write(conteudo_json)\n",
    "except Exception as e:\n",
    "    print(f\"Ocorreu um erro ao salvar o arquivo: {e}\")"
   ]
  },
  {
   "cell_type": "code",
   "execution_count": 19,
   "id": "fdbca693-2531-4ff6-9e82-1b2286f0e101",
   "metadata": {},
   "outputs": [],
   "source": [
    "#df_pandas = pd.json_normalize(dados_json)"
   ]
  },
  {
   "cell_type": "code",
   "execution_count": null,
   "id": "e32eaff9-b7ce-46d1-99ca-2bb617fd7802",
   "metadata": {},
   "outputs": [],
   "source": [
    "#df_pandas.head()"
   ]
  }
 ],
 "metadata": {
  "kernelspec": {
   "display_name": "Python 3 (ipykernel)",
   "language": "python",
   "name": "python3"
  },
  "language_info": {
   "codemirror_mode": {
    "name": "ipython",
    "version": 3
   },
   "file_extension": ".py",
   "mimetype": "text/x-python",
   "name": "python",
   "nbconvert_exporter": "python",
   "pygments_lexer": "ipython3",
   "version": "3.11.6"
  }
 },
 "nbformat": 4,
 "nbformat_minor": 5
}
